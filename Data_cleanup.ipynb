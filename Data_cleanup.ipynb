{
 "cells": [
  {
   "cell_type": "markdown",
   "metadata": {},
   "source": [
    "# Open project: data cleanup\n",
    "\n",
    "### Isaac Newell\n",
    "\n",
    "This notebook gets and cleans data from:\n",
    "* _League of Conservation Voters_, on the voting records of congressmen\n",
    "* _OpenSecrets.org_, on the industry campaign donations to congressmen\n",
    "\n",
    "In conjunction with data from Yale's Program on Climate Change Communication, these data will be used to assess the primary question: *How does industry money from Oil, Gas, and Coal effect the voting of the receiving members of congress? How does it pull them away from the opinion of their constituents?*\n",
    "\n",
    "For a much more extensive explanation, see my webpage itself."
   ]
  },
  {
   "cell_type": "code",
   "execution_count": 2,
   "metadata": {
    "collapsed": true
   },
   "outputs": [],
   "source": [
    "import requests\n",
    "import json\n",
    "from bs4 import BeautifulSoup\n",
    "import csv"
   ]
  },
  {
   "cell_type": "markdown",
   "metadata": {},
   "source": [
    "First we'll start with the LCV data. The data is contained inside a table-like structure, with a weird way of toggling between pages of data and filtering out other data. So, using BeautifulSoup, we can get all the divs that may contain useful information, and check that the data corresponds to a member of the House by ensuring that there is a specific district attached."
   ]
  },
  {
   "cell_type": "code",
   "execution_count": 3,
   "metadata": {
    "collapsed": true,
    "scrolled": false
   },
   "outputs": [],
   "source": [
    "r = requests.get(\"http://scorecard.lcv.org/members-of-congress\")\n",
    "\n",
    "html_doc = r.text\n",
    "\n",
    "soup = BeautifulSoup(html_doc, 'html.parser')\n",
    "\n",
    "container = soup.find(\"div\",attrs={\"id\":\"moc-list-table-data\"})\n",
    "\n",
    "divs = container.find_all(\"div\")\n",
    "\n",
    "# data will be saved into scorecard_data\n",
    "scorecard_data = []\n",
    "for div in divs:\n",
    "    # get the state+district, i.e. MA-04\n",
    "    st = div.find(\"span\",class_=\"mocState\").get_text()\n",
    "    # check if st is an at large district\n",
    "    if st[-2:].isdigit() or (st[-2:] == \"AL\" and st != \"AL\"):\n",
    "        name = div.find(\"span\",class_=\"mocName\").get_text()\n",
    "        # These congressmen either came into our out of office in 2016.\n",
    "        # The dataset had two people in their districts, and I only wanted one each.\n",
    "        # Thus I picked the ones with the most extensive voting record.\n",
    "        if (name in [\"Takai, Mark\", \"Comer, James\", \"Fattah, Chaka\"]):\n",
    "            continue\n",
    "        row = []\n",
    "        for c in [\"mocName\",\"mocParty\",\"mocState\",\"mocRating\",\"mocLifetimeRating\"]:\n",
    "            row.append(div.find(\"span\",class_=c).get_text())\n",
    "        row.append(div.find(\"span\",class_=\"mocState\").get(\"sort\"))\n",
    "        scorecard_data.append(row)\n",
    "        \n",
    "# Sort data\n",
    "from operator import itemgetter\n",
    "scorecard_data.sort(key=itemgetter(-1))\n",
    "\n",
    "# Write data to csv\n",
    "col_headers = [\"rep\", \"party\", \"district\", \"score_2016\", \"score_lifetime\"]\n",
    "with open('climate_scorecard.csv', 'w', newline='') as f:\n",
    "    writer = csv.writer(f, delimiter=',')\n",
    "    writer.writerow(col_headers)\n",
    "    for row in scorecard_data:\n",
    "        writer.writerow(row[:-1])"
   ]
  },
  {
   "cell_type": "markdown",
   "metadata": {},
   "source": [
    "Now, onwards to the OpenSecrets data. For this, by inspecting the webpage I gleaned that I needed to do a little string processing. One of the fields on the webpage contains data in the form of LASTNAME, FIRSTNAME, (PARTY-STATE), i.e. McCarthy, Kevin (R-CA). Opensecrets has a sort feature, but it only sorts by state, not by district. Thus we will have to process this string and use our previous data (in scorecard_data) to determine the corresponding district."
   ]
  },
  {
   "cell_type": "code",
   "execution_count": 4,
   "metadata": {},
   "outputs": [],
   "source": [
    "def get_district(rep):\n",
    "    name = rep[0:rep.find(\"(\")-1]\n",
    "    for row in scorecard_data:\n",
    "        n = row[0]\n",
    "        if n[-1] == \".\":\n",
    "            n = row[0][:-1]\n",
    "        if n == name:\n",
    "            return row[2][-2:]\n",
    "    return \"Missing\"\n",
    "def get_state(rep):\n",
    "    state = rep[rep.find(\"-\",rep.find(\"(\"))+1:rep.find(\")\")]\n",
    "    return state"
   ]
  },
  {
   "cell_type": "markdown",
   "metadata": {},
   "source": [
    "Test it out to make sure it works..."
   ]
  },
  {
   "cell_type": "code",
   "execution_count": 5,
   "metadata": {},
   "outputs": [
    {
     "name": "stdout",
     "output_type": "stream",
     "text": [
      "23\n",
      "CA\n",
      "01\n",
      "MS\n"
     ]
    }
   ],
   "source": [
    "print(get_district(\"McCarthy, Kevin (R-CA)\"))\n",
    "print(get_state(\"McCarthy, Kevin (R-CA)\"))\n",
    "\n",
    "print(get_district(\"Kelly, Trent (R-MS)\"))\n",
    "print(get_state(\"Kelly, Trent (R-MS)\"))"
   ]
  },
  {
   "cell_type": "markdown",
   "metadata": {},
   "source": [
    "Looks correct!\n",
    "\n",
    "Now, our approach will be to iterate through the congressmen, sorted by state, and place them into the proper index of a 435-dimensional vector. That requires us to know the alphabetical order of the states as well as the number of districts in each state:"
   ]
  },
  {
   "cell_type": "code",
   "execution_count": 22,
   "metadata": {
    "collapsed": true
   },
   "outputs": [],
   "source": [
    "dists = [\"AL\",\"AK\",\"AZ\",\"AR\",\"CA\",\"CO\",\"CT\",\"DE\",\"FL\",\"GA\",\"HI\",\"ID\",\"IL\",\"IN\",\"IA\",\"KS\",\"KY\",\n",
    "        \"LA\",\"ME\",\"MD\",\"MA\",\"MI\",\"MN\",\"MS\",\"MO\",\"MT\",\"NE\",\"NV\",\"NH\",\"NJ\",\"NM\",\"NY\",\"NC\",\"ND\",\n",
    "        \"OH\",\"OK\",\"OR\",\"PA\",\"RI\",\"SC\",\"SD\",\"TN\",\"TX\",\"UT\",\"VT\",\"VA\",\"WA\",\"WV\",\"WI\",\"WY\"]\n",
    "\n",
    "\n",
    "num_dists = {\"AL\": 7,\n",
    "             \"AK\": 1,\n",
    "             \"AZ\": 9,\n",
    "             \"AR\": 4,\n",
    "             \"CA\": 53,\n",
    "             \"CO\": 7,\n",
    "             \"CT\": 5,\n",
    "             \"DE\": 1,\n",
    "             \"FL\": 27,\n",
    "             \"GA\": 14,\n",
    "             \"HI\": 2,\n",
    "             \"ID\": 2,\n",
    "             \"IL\": 18,\n",
    "             \"IN\": 9,\n",
    "             \"IA\": 4,\n",
    "             \"KS\": 4,\n",
    "             \"KY\": 6,\n",
    "             \"LA\": 6,\n",
    "             \"ME\": 2,\n",
    "             \"MD\": 8,\n",
    "             \"MA\": 9,\n",
    "             \"MI\": 14,\n",
    "             \"MN\": 8,\n",
    "             \"MS\": 4,\n",
    "             \"MO\": 8,\n",
    "             \"MT\": 1,\n",
    "             \"NE\": 3,\n",
    "             \"NV\": 4,\n",
    "             \"NH\": 2,\n",
    "             \"NJ\": 12,\n",
    "             \"NM\": 3,\n",
    "             \"NY\": 27,\n",
    "             \"NC\": 13,\n",
    "             \"ND\": 1,\n",
    "             \"OH\": 16,\n",
    "             \"OK\": 5,\n",
    "             \"OR\": 5,\n",
    "             \"PA\": 18,\n",
    "             \"RI\": 2,\n",
    "             \"SC\": 7,\n",
    "             \"SD\": 1,\n",
    "             \"TN\": 9,\n",
    "             \"TX\": 36,\n",
    "             \"UT\": 4,\n",
    "             \"VT\": 1,\n",
    "             \"VA\": 11,\n",
    "             \"WA\": 10,\n",
    "             \"WV\": 3,\n",
    "             \"WI\": 8,\n",
    "             \"WY\": 1\n",
    "            }"
   ]
  },
  {
   "cell_type": "markdown",
   "metadata": {},
   "source": [
    "Do a quick check to make sure the districts total to 435:"
   ]
  },
  {
   "cell_type": "code",
   "execution_count": 23,
   "metadata": {
    "scrolled": false
   },
   "outputs": [
    {
     "name": "stdout",
     "output_type": "stream",
     "text": [
      "435\n"
     ]
    }
   ],
   "source": [
    "total = 0\n",
    "for k in num_dists.keys():\n",
    "    total += num_dists[k]\n",
    "print(total)"
   ]
  },
  {
   "cell_type": "markdown",
   "metadata": {},
   "source": [
    "A bit more preliminary work, we'll have to convert from dollars to integer values. The to_int method does that."
   ]
  },
  {
   "cell_type": "code",
   "execution_count": 8,
   "metadata": {},
   "outputs": [],
   "source": [
    "def to_int(dollars):\n",
    "    s = \"\"\n",
    "    for i in range(len(dollars)):\n",
    "        if dollars[i].isdigit():\n",
    "            s += dollars[i]\n",
    "    return int(s)"
   ]
  },
  {
   "cell_type": "code",
   "execution_count": 9,
   "metadata": {},
   "outputs": [
    {
     "name": "stdout",
     "output_type": "stream",
     "text": [
      "4356098\n"
     ]
    }
   ],
   "source": [
    "print(to_int(\"$4,356,098\"))"
   ]
  },
  {
   "cell_type": "markdown",
   "metadata": {},
   "source": [
    "Now, we are ready to actually parse the data. The following function will take the url (seperate for each industry, Oil, Gas, and Coal), and the number of pages, since the data is seperated alphabetically by some number of pages."
   ]
  },
  {
   "cell_type": "code",
   "execution_count": 24,
   "metadata": {
    "collapsed": true
   },
   "outputs": [],
   "source": [
    "def get_opensecrets_data(url,numpages):\n",
    "    data_col = [0]*435\n",
    "    curr_state = \"AL\"\n",
    "    curr_state_num = 0\n",
    "    state_start_idx = 0\n",
    "    for p in range(1,numpages+1):\n",
    "        # make a request for the current page\n",
    "        r = requests.get(url+\"&page=\"+str(p))\n",
    "        doc = r.text\n",
    "        soup = BeautifulSoup(doc,\"html.parser\")\n",
    "        tab = soup.find(\"table\",class_=\"datadisplay\")\n",
    "        # get all the trs, containing the data of use\n",
    "        trs = tab.find_all(\"tr\")[1:]\n",
    "        for tr in trs:\n",
    "            # So, some districts may be missing, districts within a state may not be in order\n",
    "            # Thus, we must keep track of what state we are on.\n",
    "            tds = tr.find_all(\"td\")\n",
    "            state = get_state(tds[0].get_text())\n",
    "            if state not in num_dists.keys():\n",
    "                continue\n",
    "            # If state changes, update the start of the state range.\n",
    "            # Note that some states might not be included at all so you may have to\n",
    "            # add the number of districts in several alphabetically consecutive states\n",
    "            if state != curr_state:\n",
    "                new_state_num = dists.index(state)\n",
    "                for n in range(curr_state_num,new_state_num):\n",
    "                    state_start_idx += num_dists[dists[n]]\n",
    "                curr_state_num = new_state_num\n",
    "                curr_state = state\n",
    "                print(\"starting \" + str(state) + \" at: \" + str(state_start_idx))\n",
    "            dist = get_district(tds[0].get_text())\n",
    "            money = tds[1].get_text()\n",
    "            # address at-large districts\n",
    "            if dist == \"AL\":\n",
    "                dist = 1\n",
    "            if dist != \"Missing\":\n",
    "                dist = int(dist)\n",
    "                data_col[state_start_idx+dist-1] = to_int(money)\n",
    "    return data_col"
   ]
  },
  {
   "cell_type": "markdown",
   "metadata": {},
   "source": [
    "Just for debugging purposes, run the following below to make sure that every industry it is called on, get_opensecrets_data starts the index for each state at the same place; the order of states and number of districts is constant."
   ]
  },
  {
   "cell_type": "code",
   "execution_count": 26,
   "metadata": {
    "scrolled": true
   },
   "outputs": [
    {
     "name": "stdout",
     "output_type": "stream",
     "text": [
      "starting AK at: 7\n",
      "starting AZ at: 8\n",
      "starting AR at: 17\n",
      "starting CA at: 21\n",
      "starting CO at: 74\n",
      "starting CT at: 81\n",
      "starting DE at: 86\n",
      "starting FL at: 87\n",
      "starting GA at: 114\n",
      "starting HI at: 128\n",
      "starting ID at: 130\n",
      "starting IL at: 132\n",
      "starting IN at: 150\n",
      "starting IA at: 159\n",
      "starting KS at: 163\n",
      "starting KY at: 167\n",
      "starting LA at: 173\n",
      "starting ME at: 179\n",
      "starting MD at: 181\n",
      "starting MA at: 189\n",
      "starting MI at: 198\n",
      "starting MN at: 212\n",
      "starting MS at: 220\n",
      "starting MO at: 224\n",
      "starting MT at: 232\n",
      "starting NE at: 233\n",
      "starting NV at: 236\n",
      "starting NH at: 240\n",
      "starting NJ at: 242\n",
      "starting NM at: 254\n",
      "starting NY at: 257\n",
      "starting NC at: 284\n",
      "starting ND at: 297\n",
      "starting OH at: 298\n",
      "starting OK at: 314\n",
      "starting OR at: 319\n",
      "starting PA at: 324\n",
      "starting RI at: 342\n",
      "starting SC at: 344\n",
      "starting SD at: 351\n",
      "starting TN at: 352\n",
      "starting TX at: 361\n",
      "starting UT at: 397\n",
      "starting VT at: 401\n",
      "starting VA at: 402\n",
      "starting WA at: 413\n",
      "starting WV at: 423\n",
      "starting WI at: 426\n",
      "starting WY at: 434\n",
      "[33450, 21950, 12500, 18200, 0, 13550, 0, 71550, 3386, 69146, 0, 5750, 16600, 10000, 3000, 5500, 10500, 6250, 32050, 16500, 43200, 25250, 5000, 1000, 18000, 7500, 14500, 2800, 22400, 4500, 188999, 0, 428, 0, 0, 9200, 95525, 5400, 0, 3700, 0, 0, 0, 337650, 0, 50400, 1068, 0, 0, 0, 0, 1103, 5000, 0, 3000, 6500, 14400, 1000, 7500, 47300, 0, 0, 0, 5000, 0, 65950, 0, 0, 0, 46500, 23300, 0, 0, 0, 0, 7500, 115100, 0, 0, 135894, 13500, 11000, 3000, 0, 3000, 0, 2500, 1000, 9000, 0, 0, 0, 61540, 27500, 7500, 1424, 2300, 0, 23700, 0, 0, 13500, 0, 5000, 16973, 0, 0, 3500, 0, 0, 0, 6000, 55900, 9000, 12400, 0, 5750, 0, 0, 22000, 18500, 3000, 18450, 0, 15000, 0, 9000, 33800, 3500, 6330, 14900, 41300, 15500, 2000, 0, 0, 0, 0, 2000, 8931, 15, 0, 19350, 29000, 61000, 18000, 180450, 66250, 11965, 50900, 0, 26500, 91530, 25600, 0, 44750, 1000, 17000, 335396, 25400, 0, 23500, 0, 64697, 0, 48375, 186600, 55100, 58500, 0, 12500, 0, 0, 280600, 0, 0, 160130, 16250, 194199, 0, 48400, 20500, 0, 0, 4700, 40500, 3500, 32000, 31000, 7000, 0, 4700, 0, 0, 4500, 29000, 2500, 8250, 19925, 16500, 10000, 4050, 0, 222250, 46900, 19900, 0, 0, 4000, 17200, 0, 100, 15500, 0, 55066, 0, 0, 5450, 0, 531, 24150, 19500, 59050, 47200, 0, 0, 6000, 9400, 0, 17000, 44500, 0, 0, 1500, 32500, 0, 0, 0, 302981, 45000, 34200, 0, 0, 0, 0, 0, 0, 0, 23000, 3500, 0, 0, 0, 0, 0, 222150, 0, 54600, 0, 0, 5200, 2500, 0, 0, 0, 2000, 0, 0, 10800, 0, 10500, 0, 11200, 0, 7500, 0, 0, 55675, 0, 115850, 62250, 0, 9850, 59750, 0, 30500, 0, 6000, 19000, 0, 23490, 95900, 17900, 0, 0, 0, 51499, 199900, 2100, 0, 5550, 18000, 0, 129950, 45300, 16161, 8500, 18400, 400, 83000, 15500, 34400, 56350, 55943, 0, 190850, 59550, 104400, 0, 8150, 0, 3500, 0, 54500, 24300, 0, 77412, 36500, 0, 36250, 76450, 0, 239412, 22250, 35300, 42050, 3500, 34000, 34400, 16000, 0, 56750, 0, 500, 6000, 14000, 43500, 26400, 16000, 15680, 15750, 75650, 4500, 0, 17200, 0, 3500, 40750, 88400, 0, 0, 0, 67700, 37350, 0, 63650, 213782, 0, 0, 20100, 0, 0, 75400, 69150, 0, 2500, 250, 202500, 15000, 1500, 24250, 0, 212450, 316574, 0, 133550, 0, 70950, 153727, 106200, 4000, 0, 127750, 0, 35000, 0, 48950, 150516, 92500, 51800, 67336, 0, 15950, 6700, 0, 0, 12500, 40450, 0, 0, 39318, 74775, 0, 0, 35500, 0, 32150, 0, 3950, 0, 10000, 0, 0, 78500, 30700, 42600, 685083, 4000, 7000, 0, 0, 0, 0, 18400, 0]\n"
     ]
    }
   ],
   "source": [
    "print(get_opensecrets_data(\"https://www.opensecrets.org/industries/summary.php?ind=E01&cycle=2016&recipdetail=H&sortorder=S&mem=Y\",4))"
   ]
  },
  {
   "cell_type": "markdown",
   "metadata": {},
   "source": [
    "Now write the data to a csv file. We will call get_opensecrets_data on the appropriate urls for Oil&Gas, natural gas pipelines, and coal and the appropriate number of pages (gleaned from visiting each link)."
   ]
  },
  {
   "cell_type": "code",
   "execution_count": 25,
   "metadata": {},
   "outputs": [
    {
     "name": "stdout",
     "output_type": "stream",
     "text": [
      "starting AK at: 7\n",
      "starting AZ at: 8\n",
      "starting AR at: 17\n",
      "starting CA at: 21\n",
      "starting CO at: 74\n",
      "starting CT at: 81\n",
      "starting DE at: 86\n",
      "starting FL at: 87\n",
      "starting GA at: 114\n",
      "starting HI at: 128\n",
      "starting ID at: 130\n",
      "starting IL at: 132\n",
      "starting IN at: 150\n",
      "starting IA at: 159\n",
      "starting KS at: 163\n",
      "starting KY at: 167\n",
      "starting LA at: 173\n",
      "starting ME at: 179\n",
      "starting MD at: 181\n",
      "starting MA at: 189\n",
      "starting MI at: 198\n",
      "starting MN at: 212\n",
      "starting MS at: 220\n",
      "starting MO at: 224\n",
      "starting MT at: 232\n",
      "starting NE at: 233\n",
      "starting NV at: 236\n",
      "starting NH at: 240\n",
      "starting NJ at: 242\n",
      "starting NM at: 254\n",
      "starting NY at: 257\n",
      "starting NC at: 284\n",
      "starting ND at: 297\n",
      "starting OH at: 298\n",
      "starting OK at: 314\n",
      "starting OR at: 319\n",
      "starting PA at: 324\n",
      "starting RI at: 342\n",
      "starting SC at: 344\n",
      "starting SD at: 351\n",
      "starting TN at: 352\n",
      "starting TX at: 361\n",
      "starting UT at: 397\n",
      "starting VT at: 401\n",
      "starting VA at: 402\n",
      "starting WA at: 413\n",
      "starting WV at: 423\n",
      "starting WI at: 426\n",
      "starting WY at: 434\n",
      "starting AZ at: 8\n",
      "starting AR at: 17\n",
      "starting CA at: 21\n",
      "starting CO at: 74\n",
      "starting CT at: 81\n",
      "starting FL at: 87\n",
      "starting GA at: 114\n",
      "starting ID at: 130\n",
      "starting IL at: 132\n",
      "starting IN at: 150\n",
      "starting IA at: 159\n",
      "starting KS at: 163\n",
      "starting KY at: 167\n",
      "starting LA at: 173\n",
      "starting ME at: 179\n",
      "starting MD at: 181\n",
      "starting MA at: 189\n",
      "starting MI at: 198\n",
      "starting MN at: 212\n",
      "starting MS at: 220\n",
      "starting MO at: 224\n",
      "starting MT at: 232\n",
      "starting NE at: 233\n",
      "starting NV at: 236\n",
      "starting NH at: 240\n",
      "starting NJ at: 242\n",
      "starting NM at: 254\n",
      "starting NY at: 257\n",
      "starting NC at: 284\n",
      "starting ND at: 297\n",
      "starting OH at: 298\n",
      "starting OK at: 314\n",
      "starting OR at: 319\n",
      "starting PA at: 324\n",
      "starting SC at: 344\n",
      "starting TN at: 352\n",
      "starting TX at: 361\n",
      "starting UT at: 397\n",
      "starting VT at: 401\n",
      "starting VA at: 402\n",
      "starting WA at: 413\n",
      "starting WV at: 423\n",
      "starting WI at: 426\n",
      "starting WY at: 434\n",
      "starting AK at: 7\n",
      "starting AZ at: 8\n",
      "starting AR at: 17\n",
      "starting CA at: 21\n",
      "starting CO at: 74\n",
      "starting GA at: 114\n",
      "starting ID at: 130\n",
      "starting IL at: 132\n",
      "starting IN at: 150\n",
      "starting KS at: 163\n",
      "starting KY at: 167\n",
      "starting LA at: 173\n",
      "starting MD at: 181\n",
      "starting MI at: 198\n",
      "starting MN at: 212\n",
      "starting MS at: 220\n",
      "starting MO at: 224\n",
      "starting MT at: 232\n",
      "starting NE at: 233\n",
      "starting NV at: 236\n",
      "starting NJ at: 242\n",
      "starting NM at: 254\n",
      "starting NC at: 284\n",
      "starting ND at: 297\n",
      "starting OH at: 298\n",
      "starting OK at: 314\n",
      "starting OR at: 319\n",
      "starting PA at: 324\n",
      "starting SD at: 351\n",
      "starting TN at: 352\n",
      "starting TX at: 361\n",
      "starting UT at: 397\n",
      "starting VA at: 402\n",
      "starting WA at: 413\n",
      "starting WV at: 423\n",
      "starting WI at: 426\n",
      "starting WY at: 434\n"
     ]
    }
   ],
   "source": [
    "col_headers = [\"rep\",\"party\",\"district\",\"oil_gas\",\"pipelines\",\"coal\"]\n",
    "           \n",
    "oil_gas_col = get_opensecrets_data(\"https://www.opensecrets.org/industries/summary.php?ind=E01&cycle=2016&recipdetail=H&sortorder=S&mem=Y\",4)\n",
    "pipelines_col = get_opensecrets_data(\"https://www.opensecrets.org/industries/summary.php?ind=E1140&cycle=2016&recipdetail=H&sortorder=S&mem=Y\",3)\n",
    "coal_col = get_opensecrets_data(\"https://www.opensecrets.org/industries/summary.php?ind=E1210&cycle=2016&recipdetail=H&sortorder=S&mem=Y\",1)\n",
    "\n",
    "with open('lobbying_2016.csv', 'w', newline='') as f:\n",
    "    writer = csv.writer(f, delimiter=',')\n",
    "    writer.writerow(col_headers)\n",
    "    for i,row in enumerate(scorecard_data):\n",
    "        writer.writerow(row[:3]+[oil_gas_col[i]]+[pipelines_col[i]]+[coal_col[i]])\n",
    "    "
   ]
  }
 ],
 "metadata": {
  "kernelspec": {
   "display_name": "Python 3",
   "language": "python",
   "name": "python3"
  }
 },
 "nbformat": 4,
 "nbformat_minor": 2
}
